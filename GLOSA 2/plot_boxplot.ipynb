{
 "cells": [
  {
   "cell_type": "code",
   "execution_count": 1,
   "metadata": {},
   "outputs": [],
   "source": [
    "import numpy as np\n",
    "import pandas as pd \n",
    "import matplotlib.pyplot as plt\n",
    "\n",
    "def run(results_directory, optimizer, objectivefunc, Iterations):\n",
    "    plt.ioff()\n",
    "    \n",
    "    fileResultsDetailsData = pd.read_csv(results_directory + '/data.csv')\n",
    "    for j in range (0, len(objectivefunc)):\n",
    "            \n",
    "        #Box Plot\n",
    "        data = []      \n",
    "            \n",
    "        for i in range(len(optimizer)): \n",
    "            objective_name = objectivefunc[j]\n",
    "            optimizer_name = optimizer[i]\n",
    "            \n",
    "            detailedData = fileResultsDetailsData[(fileResultsDetailsData[\"Optimizer\"] == optimizer_name) & (fileResultsDetailsData[\"objfname\"] == objective_name)]\n",
    "            detailedData = detailedData[\"Iter\" + str(Iterations)]\n",
    "            detailedData = np.array(detailedData).T.tolist()\n",
    "            data.append(detailedData)\n",
    "\n",
    "        #, notch=True\n",
    "        box=plt.boxplot(data,patch_artist=True,labels=optimizer)\n",
    "        \n",
    "\n",
    "        colors = ['#5c9eb7','#f77199', '#cf81d2','#4a5e6a','#f45b18',\n",
    "        '#ffbd35','#6ba5a1','#fcd1a1','#c3ffc1','#68549d',\n",
    "        '#1c8c44','#a44c40','#404636']\n",
    "        for patch, color in zip(box['boxes'], colors):\n",
    "            patch.set_facecolor(color)\n",
    "         \n",
    "        plt.legend(handles= box['boxes'], labels=optimizer, \n",
    "            loc=\"top right\", bbox_to_anchor=(1.2,1.02))\n",
    "        fig_name = results_directory + \"/boxplot-\" + objective_name + \".png\"\n",
    "        plt.savefig(fig_name, bbox_inches='tight')\n",
    "        plt.clf()\n",
    "        #plt.show()"
   ]
  },
  {
   "cell_type": "code",
   "execution_count": null,
   "metadata": {},
   "outputs": [],
   "source": []
  }
 ],
 "metadata": {
  "kernelspec": {
   "display_name": "Python 3",
   "language": "python",
   "name": "python3"
  },
  "language_info": {
   "codemirror_mode": {
    "name": "ipython",
    "version": 3
   },
   "file_extension": ".py",
   "mimetype": "text/x-python",
   "name": "python",
   "nbconvert_exporter": "python",
   "pygments_lexer": "ipython3",
   "version": "3.6.5"
  }
 },
 "nbformat": 4,
 "nbformat_minor": 2
}
