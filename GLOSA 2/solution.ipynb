{
 "cells": [
  {
   "cell_type": "code",
   "execution_count": null,
   "metadata": {},
   "outputs": [],
   "source": [
    "\n",
    "class solution:\n",
    "    def __init__(self):\n",
    "        self.best = 0\n",
    "        self.bestIndividual=[]\n",
    "        self.convergence = []\n",
    "        self.optimizer=\"\"\n",
    "        self.objfname=\"\"\n",
    "        self.startTime=0\n",
    "        self.endTime=0\n",
    "        self.executionTime=0\n",
    "        self.lb=0\n",
    "        self.ub=0\n",
    "        self.dim=0\n",
    "        self.popnum=0\n",
    "        self.maxiers=0"
   ]
  }
 ],
 "metadata": {
  "kernelspec": {
   "display_name": "Python 3",
   "language": "python",
   "name": "python3"
  },
  "language_info": {
   "codemirror_mode": {
    "name": "ipython",
    "version": 3
   },
   "file_extension": ".py",
   "mimetype": "text/x-python",
   "name": "python",
   "nbconvert_exporter": "python",
   "pygments_lexer": "ipython3",
   "version": "3.6.5"
  }
 },
 "nbformat": 4,
 "nbformat_minor": 2
}
